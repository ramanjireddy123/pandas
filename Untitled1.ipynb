{
 "cells": [
  {
   "cell_type": "code",
   "execution_count": 1,
   "id": "f203b4d9-fc5c-467d-b95b-6787376fce2f",
   "metadata": {},
   "outputs": [],
   "source": [
    "import pandas as pd"
   ]
  },
  {
   "cell_type": "code",
   "execution_count": 2,
   "id": "8c8ed8af-1cd4-48eb-8bb8-fa685619331d",
   "metadata": {},
   "outputs": [],
   "source": [
    "import numpy as np"
   ]
  },
  {
   "cell_type": "code",
   "execution_count": 3,
   "id": "55d3fa5d-1038-4e1f-8f7e-c385361095a0",
   "metadata": {},
   "outputs": [
    {
     "data": {
      "text/plain": [
       "0    1\n",
       "1    2\n",
       "2    3\n",
       "3    4\n",
       "4    5\n",
       "5    6\n",
       "6    7\n",
       "dtype: int64"
      ]
     },
     "execution_count": 3,
     "metadata": {},
     "output_type": "execute_result"
    }
   ],
   "source": [
    "x = pd.Series([1,2,3,4,5,6,7])\n",
    "x"
   ]
  },
  {
   "cell_type": "code",
   "execution_count": 6,
   "id": "01e2ca6f-45a6-46bc-9b3d-06b97e7b794e",
   "metadata": {},
   "outputs": [
    {
     "data": {
      "text/plain": [
       "2    3\n",
       "3    4\n",
       "dtype: int64"
      ]
     },
     "execution_count": 6,
     "metadata": {},
     "output_type": "execute_result"
    }
   ],
   "source": [
    "x[(x > 2) & (x < 5)]"
   ]
  },
  {
   "cell_type": "code",
   "execution_count": 8,
   "id": "9088f982-9a2c-4a72-bb66-3c026f76ee29",
   "metadata": {},
   "outputs": [
    {
     "data": {
      "text/plain": [
       "0    1\n",
       "1    2\n",
       "2    3\n",
       "3    4\n",
       "4    5\n",
       "5    6\n",
       "6    7\n",
       "dtype: int64"
      ]
     },
     "execution_count": 8,
     "metadata": {},
     "output_type": "execute_result"
    }
   ],
   "source": [
    "x[(x > 1) | (x < 4)]"
   ]
  },
  {
   "cell_type": "code",
   "execution_count": 9,
   "id": "f26ee23c-97d1-4c4c-adb3-0c944d8205a9",
   "metadata": {},
   "outputs": [],
   "source": [
    "# axis = 0 rows, axis = 1 colums"
   ]
  },
  {
   "cell_type": "code",
   "execution_count": 11,
   "id": "db8bb4eb-15fb-47da-8955-ff21f56dc9a9",
   "metadata": {},
   "outputs": [],
   "source": [
    "#  df.drop()   # used to delete the rows "
   ]
  },
  {
   "cell_type": "code",
   "execution_count": null,
   "id": "7176c0a2-a90e-434a-ac0e-48d158f41a85",
   "metadata": {},
   "outputs": [],
   "source": []
  }
 ],
 "metadata": {
  "kernelspec": {
   "display_name": "Python 3 (ipykernel)",
   "language": "python",
   "name": "python3"
  },
  "language_info": {
   "codemirror_mode": {
    "name": "ipython",
    "version": 3
   },
   "file_extension": ".py",
   "mimetype": "text/x-python",
   "name": "python",
   "nbconvert_exporter": "python",
   "pygments_lexer": "ipython3",
   "version": "3.9.6"
  }
 },
 "nbformat": 4,
 "nbformat_minor": 5
}
